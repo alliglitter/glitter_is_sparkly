{
 "cells": [
  {
   "cell_type": "code",
   "execution_count": 1,
   "id": "a204b394-2422-41ae-a9ba-93f05fb54c8a",
   "metadata": {
    "tags": []
   },
   "outputs": [],
   "source": [
    "import pandas as pd"
   ]
  },
  {
   "cell_type": "markdown",
   "id": "3a067055-0735-4c58-8576-9a4c3be689e4",
   "metadata": {},
   "source": [
    "This is the second copy of the repo"
   ]
  },
  {
   "cell_type": "code",
   "execution_count": null,
   "id": "629b0cd2-47b7-49b2-ab0c-22f52f4b59f8",
   "metadata": {},
   "outputs": [],
   "source": []
  }
 ],
 "metadata": {
  "kernelspec": {
   "display_name": "UFRC Python-3.10",
   "language": "python",
   "name": "python3-3.10-ufrc"
  },
  "language_info": {
   "codemirror_mode": {
    "name": "ipython",
    "version": 3
   },
   "file_extension": ".py",
   "mimetype": "text/x-python",
   "name": "python",
   "nbconvert_exporter": "python",
   "pygments_lexer": "ipython3",
   "version": "3.10.8"
  }
 },
 "nbformat": 4,
 "nbformat_minor": 5
}
